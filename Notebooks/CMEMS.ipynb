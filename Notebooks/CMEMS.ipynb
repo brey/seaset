{
 "cells": [
  {
   "cell_type": "markdown",
   "id": "c74d1c09",
   "metadata": {},
   "source": [
    "## CMEMS"
   ]
  },
  {
   "cell_type": "code",
   "execution_count": null,
   "id": "74eafbbd",
   "metadata": {},
   "outputs": [],
   "source": [
    "from erddapy import ERDDAP\n",
    "\n",
    "\n",
    "e = ERDDAP(\n",
    "  server=\"https://nrt.cmems-du.eu/erddap\",\n",
    "  protocol=\"tabledap\",\n",
    ")\n"
   ]
  },
  {
   "cell_type": "code",
   "execution_count": null,
   "id": "0e55e2f2",
   "metadata": {},
   "outputs": [],
   "source": [
    "e.dataset_id = 'copernicus_GLO_insitu_nrt_TG'"
   ]
  },
  {
   "cell_type": "code",
   "execution_count": null,
   "id": "bde62ef3",
   "metadata": {},
   "outputs": [],
   "source": [
    "e.constraints = {\n",
    "#    \"time>=\": \"2018-01-01T00:00:00Z\",\n",
    "#    \"time<=\": \"2022-03-10T00:00:00Z\",\n",
    "#    \"latitude>=\": 38.0,\n",
    "#    \"latitude<=\": 41.0,\n",
    "#    \"longitude>=\": -2.0,\n",
    "#    \"longitude<=\": 45.0,\n",
    "}\n"
   ]
  },
  {
   "cell_type": "code",
   "execution_count": null,
   "id": "afe8ea0e",
   "metadata": {},
   "outputs": [],
   "source": [
    "e.variables = [\n",
    "    \"PLATFORM_NAME\",\n",
    "    \"PLATFORM_CODE\",\n",
    "    \"INSTITUTION\",\n",
    "    \"INSTITUTION_EDMO_CODE\",\n",
    "    \"latitude\",\n",
    "    \"longitude\",\n",
    "#    \"SLEV_QC\",\n",
    "#    \"SLEV_DM\",\n",
    "#    \"POSITION_QC\",\n",
    "#    \"POSITIONING_SYSTEM\",\n",
    "#    \"DC_REFERENCE\",\n",
    "]\n"
   ]
  },
  {
   "cell_type": "code",
   "execution_count": null,
   "id": "851419c9",
   "metadata": {},
   "outputs": [],
   "source": [
    "d = e.to_pandas()#low_memory=False)"
   ]
  },
  {
   "cell_type": "code",
   "execution_count": null,
   "id": "5b6772b2",
   "metadata": {},
   "outputs": [],
   "source": [
    "d = d.drop_duplicates()"
   ]
  },
  {
   "cell_type": "code",
   "execution_count": null,
   "id": "db8e9f93",
   "metadata": {},
   "outputs": [],
   "source": [
    "d"
   ]
  },
  {
   "cell_type": "code",
   "execution_count": null,
   "id": "a244e374",
   "metadata": {},
   "outputs": [],
   "source": [
    "d.INSTITUTION.unique()"
   ]
  },
  {
   "cell_type": "code",
   "execution_count": null,
   "id": "5058df9c",
   "metadata": {},
   "outputs": [],
   "source": [
    "d.to_csv('cmems.csv')"
   ]
  },
  {
   "cell_type": "markdown",
   "id": "707b72a8",
   "metadata": {},
   "source": [
    "### Get data"
   ]
  },
  {
   "cell_type": "code",
   "execution_count": null,
   "id": "d2da3880",
   "metadata": {},
   "outputs": [],
   "source": [
    "from erddapy import ERDDAP\n",
    "\n",
    "\n",
    "e = ERDDAP(\n",
    "  server=\"https://nrt.cmems-du.eu/erddap\",\n",
    "  protocol=\"tabledap\",\n",
    ")\n"
   ]
  },
  {
   "cell_type": "code",
   "execution_count": null,
   "id": "d16d4343",
   "metadata": {},
   "outputs": [],
   "source": [
    "e.dataset_id = 'copernicus_GLO_insitu_nrt_TG'"
   ]
  },
  {
   "cell_type": "code",
   "execution_count": null,
   "id": "f45ee6f6",
   "metadata": {},
   "outputs": [],
   "source": [
    "e.constraints = {\n",
    "    \"time>=\": \"2018-01-01T00:00:00Z\",\n",
    "    \"time<=\": \"2022-03-10T00:00:00Z\",\n",
    "    \"PLATFORM_CODE=\": \"Aarhus\",\n",
    "#    \"latitude>=\": 38.0,\n",
    "#    \"latitude<=\": 41.0,\n",
    "#    \"longitude>=\": -2.0,\n",
    "#    \"longitude<=\": 45.0,\n",
    "}\n"
   ]
  },
  {
   "cell_type": "code",
   "execution_count": null,
   "id": "ec0301ac",
   "metadata": {},
   "outputs": [],
   "source": [
    "e.variables = [\n",
    "    \"time\",\n",
    "    \"SLEV\"\n",
    "]\n"
   ]
  },
  {
   "cell_type": "code",
   "execution_count": null,
   "id": "d19eda28",
   "metadata": {},
   "outputs": [],
   "source": [
    "df = e.to_pandas()#low_memory=False)"
   ]
  },
  {
   "cell_type": "code",
   "execution_count": null,
   "id": "021e69ac",
   "metadata": {},
   "outputs": [],
   "source": [
    "df"
   ]
  },
  {
   "cell_type": "code",
   "execution_count": null,
   "id": "4dc7278c",
   "metadata": {},
   "outputs": [],
   "source": [
    "df.plot(x='time (UTC)',y='SLEV (m)')"
   ]
  }
 ],
 "metadata": {
  "kernelspec": {
   "display_name": "searvey",
   "language": "python",
   "name": "searvey"
  },
  "language_info": {
   "codemirror_mode": {
    "name": "ipython",
    "version": 3
   },
   "file_extension": ".py",
   "mimetype": "text/x-python",
   "name": "python",
   "nbconvert_exporter": "python",
   "pygments_lexer": "ipython3",
   "version": "3.9.7"
  }
 },
 "nbformat": 4,
 "nbformat_minor": 5
}
