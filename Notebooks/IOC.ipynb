{
 "cells": [
  {
   "cell_type": "markdown",
   "metadata": {},
   "source": [
    "# IOC catalog"
   ]
  },
  {
   "cell_type": "code",
   "execution_count": null,
   "metadata": {},
   "outputs": [],
   "source": [
    "import pandas as pd\n",
    "import numpy as np\n",
    "import requests"
   ]
  },
  {
   "cell_type": "markdown",
   "metadata": {},
   "source": [
    "### Read html with Pandas"
   ]
  },
  {
   "cell_type": "code",
   "execution_count": null,
   "metadata": {},
   "outputs": [],
   "source": [
    "ioc = pd.read_html('http://www.ioc-sealevelmonitoring.org/ssc/')[0]"
   ]
  },
  {
   "cell_type": "code",
   "execution_count": null,
   "metadata": {},
   "outputs": [],
   "source": [
    "ioc.drop(ioc.tail(1).index,inplace=True)"
   ]
  },
  {
   "cell_type": "code",
   "execution_count": null,
   "metadata": {},
   "outputs": [],
   "source": [
    "ioc"
   ]
  },
  {
   "cell_type": "code",
   "execution_count": null,
   "metadata": {},
   "outputs": [],
   "source": [
    "#save DataFrame\n",
    "ioc.to_csv('ioc.csv',encoding='utf-8',index=False)"
   ]
  },
  {
   "cell_type": "markdown",
   "metadata": {},
   "source": [
    "## Additional IOC table with real time info "
   ]
  },
  {
   "cell_type": "code",
   "execution_count": null,
   "metadata": {},
   "outputs": [],
   "source": [
    "import pandas as pd\n",
    "ioc2 = pd.read_html('http://www.ioc-sealevelmonitoring.org/list.php?operator=&showall=all&output=general#')"
   ]
  },
  {
   "cell_type": "code",
   "execution_count": null,
   "metadata": {},
   "outputs": [],
   "source": [
    "ioc2 = ioc2[6].drop(0)\n",
    "nh = ioc2.iloc[0]\n",
    "ioc2 = ioc2[1:]\n",
    "ioc2.columns = nh.values\n",
    "ioc2 = ioc2.iloc[:,:10]\n",
    "ioc2.reset_index(inplace=True, drop=True)\n",
    "\n",
    "ioc2 = ioc2.drop(ioc2.columns[6:7],axis=1)"
   ]
  },
  {
   "cell_type": "code",
   "execution_count": null,
   "metadata": {},
   "outputs": [],
   "source": [
    "ioc2"
   ]
  },
  {
   "cell_type": "code",
   "execution_count": null,
   "metadata": {},
   "outputs": [],
   "source": [
    "#save DataFrame\n",
    "ioc2.to_csv('ioc2.csv',encoding='utf-8',index=False)"
   ]
  },
  {
   "cell_type": "markdown",
   "metadata": {},
   "source": [
    "### merge"
   ]
  },
  {
   "cell_type": "code",
   "execution_count": null,
   "metadata": {},
   "outputs": [],
   "source": [
    "#Merge the two ioc DataFrames\n",
    "ioc3 = ioc.merge(ioc2, left_on=['Station Name'], right_on=['Location'])"
   ]
  },
  {
   "cell_type": "code",
   "execution_count": null,
   "metadata": {},
   "outputs": [],
   "source": [
    "ioc3 = ioc3.drop(['Details','Edit','Connection','DCP ID','Delay','TransmitInterval'], axis=1)"
   ]
  },
  {
   "cell_type": "code",
   "execution_count": null,
   "metadata": {},
   "outputs": [],
   "source": [
    "#save DataFrame\n",
    "ioc3.to_csv('ioc3.csv',encoding='utf-8',index=False)"
   ]
  },
  {
   "cell_type": "code",
   "execution_count": null,
   "metadata": {},
   "outputs": [],
   "source": [
    "ioc3"
   ]
  },
  {
   "cell_type": "markdown",
   "metadata": {},
   "source": [
    "### Find tgs within a lat/lon window"
   ]
  },
  {
   "cell_type": "code",
   "execution_count": null,
   "metadata": {},
   "outputs": [],
   "source": [
    "minlat = 17.,\n",
    "maxlat = 25.,\n",
    "minlon = 100.0,\n",
    "maxlon = 130.0,"
   ]
  },
  {
   "cell_type": "code",
   "execution_count": null,
   "metadata": {},
   "outputs": [],
   "source": [
    "w = ioc.loc[(ioc['Longitude'] > minlon) & (ioc['Longitude'] < maxlon) & (ioc['Latitude'] > minlat) & (ioc['Latitude'] < maxlat)]"
   ]
  },
  {
   "cell_type": "code",
   "execution_count": null,
   "metadata": {},
   "outputs": [],
   "source": [
    "w.reset_index(inplace=True, drop=True)"
   ]
  },
  {
   "cell_type": "code",
   "execution_count": null,
   "metadata": {},
   "outputs": [],
   "source": [
    "w"
   ]
  },
  {
   "cell_type": "markdown",
   "metadata": {},
   "source": [
    "## get the data"
   ]
  },
  {
   "cell_type": "code",
   "execution_count": null,
   "metadata": {},
   "outputs": [],
   "source": [
    "url = \"http://www.ioc-sealevelmonitoring.org/bgraph.php?code={}&output=tab&period=0.5&endtime={}\".format('quar','2020-2-1') # use IOC code value\n",
    "url"
   ]
  },
  {
   "cell_type": "code",
   "execution_count": null,
   "metadata": {},
   "outputs": [],
   "source": [
    "data = pd.read_html(url, header=0)[0]\n",
    "data"
   ]
  },
  {
   "cell_type": "markdown",
   "metadata": {},
   "source": [
    "## Panos - Retrieve full IOC metadata\n",
    "\n",
    "This is more or less an extension of IOC2. We retrieve all 3 tables, i.e.:\n",
    "\n",
    "- \"general\"\n",
    "- \"contacts\"\n",
    "- \"performance\"\n",
    "\n",
    "and we merge them\n",
    "\n",
    "Furthermore, we make the requests in parallel using multithreading. The runtime is ~ 10seconds.\n"
   ]
  },
  {
   "cell_type": "code",
   "execution_count": null,
   "metadata": {
    "tags": []
   },
   "outputs": [],
   "source": [
    "import concurrent.futures\n",
    "import functools\n",
    "\n",
    "import bs4 \n",
    "import html5lib   # We don't use it directly, but we use its parser in bs4\n",
    "import pandas as pd\n",
    "import requests\n",
    "\n",
    "\n",
    "IOC_METADATA_SKIP_ROWS = {\n",
    "    \"general\": 4,\n",
    "    \"contacts\": 4,\n",
    "    \"performance\": 8,\n",
    "}\n",
    "\n",
    "IOC_METADATA_COLUMN_NAMES = {\n",
    "    \"general\": [\n",
    "        \"ioc_code\", \"gloss_id\", \"country\", \"location\", \"connection\", \"dcp_id\", \"last_observation_level\", \"last_observation_time\", \"delay\", \"interval\", \"view\",\n",
    "    ],\n",
    "    \"contacts\": [\"ioc_code\", \"gloss_id\", \"lat\", \"lon\", \"country\", \"location\", \"connection\", \"contacts\", \"view\"],\n",
    "    \"performance\": [\n",
    "        \"ioc_code\", \"gloss_id\", \"country\", \"location\", \"connection\", \"added_to_system\", \n",
    "        \"observations_arrived_per_week\", \"observations_expected_per_week\", \"observations_ratio_per_week\",\n",
    "        \"observations_arrived_per_month\", \"observations_expected_per_month\", \"observations_ratio_per_month\",\n",
    "        \"observations_ratio_per_day\", \"sample_interval\", \"average_delay_per_day\", \"transmit_interval\", \"view\", \n",
    "    ],\n",
    "}\n",
    "\n",
    "def get_ioc_metadata(output: str, skip_table_rows: int) -> pd.DataFrame:\n",
    "    url = f\"https://www.ioc-sealevelmonitoring.org/list.php?operator=&showall=all&output={output}#\"\n",
    "    print(url)\n",
    "    response = requests.get(url)\n",
    "    assert response.ok\n",
    "    soup = bs4.BeautifulSoup(response.content, \"html5lib\")\n",
    "    table = soup.find(\"table\", {\"class\": \"nice\"})\n",
    "    trs = table.find_all(\"tr\")\n",
    "    table_contents = '\\n'.join(str(tr) for tr in trs[skip_table_rows:])\n",
    "    html = f\"<table>{table_contents}</table>\"\n",
    "    df = pd.read_html(html)[0]\n",
    "    df.columns = IOC_METADATA_COLUMN_NAMES[output]\n",
    "    df = df.drop(columns=\"view\")\n",
    "    return df\n",
    "\n",
    "\n",
    "def normalize_ioc(df: pd.DataFrame) -> pd.DataFrame:\n",
    "    df = df.assign(\n",
    "        gloss_id=df.gloss_id.astype(pd.Int64Dtype()),\n",
    "        country=df.country.astype(\"category\"),\n",
    "        observations_ratio_per_day=ioc.observations_ratio_per_day.replace(\"-\", \"0%\").str[:-1].astype(int),\n",
    "        observations_ratio_per_week=ioc.observations_ratio_per_week.replace(\"-\", \"0%\").str[:-1].astype(int),\n",
    "        observations_ratio_per_month=ioc.observations_ratio_per_month.replace(\"-\", \"0%\").str[:-1].astype(int),\n",
    "    )\n",
    "    return df\n",
    "\n",
    "\n",
    "# This is boilerplate code for using multithreading. \n",
    "# It can be abstracted in a function but I haven't done it here\n",
    "ioc_dfs = {}\n",
    "with concurrent.futures.ThreadPoolExecutor(max_workers=3) as executor:\n",
    "    futures = {}\n",
    "    for (output, skip_table_rows) in IOC_METADATA_SKIP_ROWS.items():\n",
    "        future = executor.submit(get_ioc_metadata, output, skip_table_rows)\n",
    "        futures[future] = output\n",
    "    \n",
    "    for future in concurrent.futures.as_completed(futures):\n",
    "        output = futures[future]\n",
    "        try:\n",
    "            df = future.result()\n",
    "        except Exception as exc:\n",
    "            print(f\"{output} generated an exception: {exc}\")\n",
    "        else:\n",
    "            ioc_dfs[output] = df\n",
    "\n",
    "#ioc_general = get_ioc_metadata(\"general\", 4)\n",
    "#ioc_contacts = get_ioc_metadata(\"contacts\", 4)\n",
    "#ioc_performance = get_ioc_metadata(\"performance\", 8)\n",
    "\n",
    "ioc = functools.reduce(pd.merge, (ioc_dfs[\"general\"], ioc_dfs[\"contacts\"], ioc_dfs[\"performance\"]))  \n",
    "ioc = normalize_ioc(ioc)"
   ]
  },
  {
   "cell_type": "code",
   "execution_count": null,
   "metadata": {
    "tags": []
   },
   "outputs": [],
   "source": [
    "ioc"
   ]
  },
  {
   "cell_type": "code",
   "execution_count": null,
   "metadata": {},
   "outputs": [],
   "source": []
  }
 ],
 "metadata": {
  "kernelspec": {
   "display_name": "searvey",
   "language": "python",
   "name": "searvey"
  },
  "language_info": {
   "codemirror_mode": {
    "name": "ipython",
    "version": 3
   },
   "file_extension": ".py",
   "mimetype": "text/x-python",
   "name": "python",
   "nbconvert_exporter": "python",
   "pygments_lexer": "ipython3",
   "version": "3.9.12"
  },
  "toc": {
   "nav_menu": {},
   "number_sections": true,
   "sideBar": true,
   "skip_h1_title": false,
   "title_cell": "Table of Contents",
   "title_sidebar": "Contents",
   "toc_cell": false,
   "toc_position": {},
   "toc_section_display": true,
   "toc_window_display": false
  }
 },
 "nbformat": 4,
 "nbformat_minor": 4
}
