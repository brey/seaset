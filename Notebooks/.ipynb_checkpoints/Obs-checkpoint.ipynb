{
 "cells": [
  {
   "cell_type": "markdown",
   "metadata": {},
   "source": [
    "# Test retrieval of data from webcritech "
   ]
  },
  {
   "cell_type": "code",
   "execution_count": 1,
   "metadata": {},
   "outputs": [],
   "source": [
    "import pandas as pd"
   ]
  },
  {
   "cell_type": "code",
   "execution_count": 2,
   "metadata": {},
   "outputs": [],
   "source": [
    "import requests"
   ]
  },
  {
   "cell_type": "code",
   "execution_count": 3,
   "metadata": {},
   "outputs": [],
   "source": [
    "import numpy as np"
   ]
  },
  {
   "cell_type": "code",
   "execution_count": 4,
   "metadata": {},
   "outputs": [],
   "source": [
    "critech = pd.read_csv('/Users/brey/GitHub/pyposeidon/pyposeidon/misc/critech.csv')"
   ]
  },
  {
   "cell_type": "code",
   "execution_count": 5,
   "metadata": {},
   "outputs": [
    {
     "data": {
      "text/html": [
       "<div>\n",
       "<style scoped>\n",
       "    .dataframe tbody tr th:only-of-type {\n",
       "        vertical-align: middle;\n",
       "    }\n",
       "\n",
       "    .dataframe tbody tr th {\n",
       "        vertical-align: top;\n",
       "    }\n",
       "\n",
       "    .dataframe thead th {\n",
       "        text-align: right;\n",
       "    }\n",
       "</style>\n",
       "<table border=\"1\" class=\"dataframe\">\n",
       "  <thead>\n",
       "    <tr style=\"text-align: right;\">\n",
       "      <th></th>\n",
       "      <th>ID</th>\n",
       "      <th>Name</th>\n",
       "      <th>Group</th>\n",
       "      <th>Latency</th>\n",
       "      <th>Details</th>\n",
       "      <th>Last Date</th>\n",
       "      <th>Max. Time</th>\n",
       "      <th>Min. Time</th>\n",
       "      <th>lat</th>\n",
       "      <th>lon</th>\n",
       "      <th>Status</th>\n",
       "    </tr>\n",
       "  </thead>\n",
       "  <tbody>\n",
       "    <tr>\n",
       "      <th>0</th>\n",
       "      <td>47</td>\n",
       "      <td>140 NM Southeast of Honolulu, HI</td>\n",
       "      <td>DART Pacific</td>\n",
       "      <td>5h 41m</td>\n",
       "      <td>Details</td>\n",
       "      <td>09 Apr 2018 06:00</td>\n",
       "      <td>09 Apr 2018 06:00</td>\n",
       "      <td>16 Mar 2011 00:37</td>\n",
       "      <td>19.630</td>\n",
       "      <td>-156.525</td>\n",
       "      <td>Active</td>\n",
       "    </tr>\n",
       "    <tr>\n",
       "      <th>1</th>\n",
       "      <td>22</td>\n",
       "      <td>175 NM S of Attu AK</td>\n",
       "      <td>DART Pacific</td>\n",
       "      <td>5h 41m</td>\n",
       "      <td>Details</td>\n",
       "      <td>09 Apr 2018 06:00</td>\n",
       "      <td>09 Apr 2018 06:00</td>\n",
       "      <td>11 Mar 2011 00:30</td>\n",
       "      <td>50.173</td>\n",
       "      <td>171.837</td>\n",
       "      <td>Active</td>\n",
       "    </tr>\n",
       "    <tr>\n",
       "      <th>2</th>\n",
       "      <td>44</td>\n",
       "      <td>190 NM West-Southwest of San Diego, CA</td>\n",
       "      <td>DART Pacific</td>\n",
       "      <td>5h 41m</td>\n",
       "      <td>Details</td>\n",
       "      <td>09 Apr 2018 06:00</td>\n",
       "      <td>09 Apr 2018 06:00</td>\n",
       "      <td>16 Mar 2011 00:30</td>\n",
       "      <td>32.246</td>\n",
       "      <td>-120.698</td>\n",
       "      <td>Active</td>\n",
       "    </tr>\n",
       "    <tr>\n",
       "      <th>3</th>\n",
       "      <td>39</td>\n",
       "      <td>240 NM South of Dutch Harbor, AK</td>\n",
       "      <td>DART Pacific</td>\n",
       "      <td>5h 41m</td>\n",
       "      <td>Details</td>\n",
       "      <td>09 Apr 2018 06:00</td>\n",
       "      <td>09 Apr 2018 06:00</td>\n",
       "      <td>16 Mar 2011 00:30</td>\n",
       "      <td>51.070</td>\n",
       "      <td>-164.011</td>\n",
       "      <td>Active</td>\n",
       "    </tr>\n",
       "    <tr>\n",
       "      <th>4</th>\n",
       "      <td>35</td>\n",
       "      <td>240 NM Southwest of Manzanillo, Mexico</td>\n",
       "      <td>DART Pacific</td>\n",
       "      <td>4h 41m</td>\n",
       "      <td>Details</td>\n",
       "      <td>09 Apr 2018 07:00</td>\n",
       "      <td>09 Apr 2018 07:00</td>\n",
       "      <td>16 Mar 2011 00:30</td>\n",
       "      <td>16.034</td>\n",
       "      <td>-107.001</td>\n",
       "      <td>Active</td>\n",
       "    </tr>\n",
       "  </tbody>\n",
       "</table>\n",
       "</div>"
      ],
      "text/plain": [
       "   ID                                    Name         Group Latency  Details  \\\n",
       "0  47        140 NM Southeast of Honolulu, HI  DART Pacific  5h 41m  Details   \n",
       "1  22                     175 NM S of Attu AK  DART Pacific  5h 41m  Details   \n",
       "2  44  190 NM West-Southwest of San Diego, CA  DART Pacific  5h 41m  Details   \n",
       "3  39        240 NM South of Dutch Harbor, AK  DART Pacific  5h 41m  Details   \n",
       "4  35  240 NM Southwest of Manzanillo, Mexico  DART Pacific  4h 41m  Details   \n",
       "\n",
       "            Last Date           Max. Time           Min. Time     lat  \\\n",
       "0   09 Apr 2018 06:00   09 Apr 2018 06:00   16 Mar 2011 00:37  19.630   \n",
       "1   09 Apr 2018 06:00   09 Apr 2018 06:00   11 Mar 2011 00:30  50.173   \n",
       "2   09 Apr 2018 06:00   09 Apr 2018 06:00   16 Mar 2011 00:30  32.246   \n",
       "3   09 Apr 2018 06:00   09 Apr 2018 06:00   16 Mar 2011 00:30  51.070   \n",
       "4   09 Apr 2018 07:00   09 Apr 2018 07:00   16 Mar 2011 00:30  16.034   \n",
       "\n",
       "       lon  Status  \n",
       "0 -156.525  Active  \n",
       "1  171.837  Active  \n",
       "2 -120.698  Active  \n",
       "3 -164.011  Active  \n",
       "4 -107.001  Active  "
      ]
     },
     "execution_count": 5,
     "metadata": {},
     "output_type": "execute_result"
    }
   ],
   "source": [
    "critech.head()"
   ]
  },
  {
   "cell_type": "code",
   "execution_count": 6,
   "metadata": {},
   "outputs": [
    {
     "data": {
      "text/plain": [
       "array(['DART Pacific', 'DMI', 'FMI', 'Ign', 'IOOS', 'ISPRA', 'TAD',\n",
       "       'TD UNESCO', 'TADSERVER'], dtype=object)"
      ]
     },
     "execution_count": 6,
     "metadata": {},
     "output_type": "execute_result"
    }
   ],
   "source": [
    "critech.Group.unique()"
   ]
  },
  {
   "cell_type": "code",
   "execution_count": 7,
   "metadata": {},
   "outputs": [
    {
     "data": {
      "text/html": [
       "<div>\n",
       "<style scoped>\n",
       "    .dataframe tbody tr th:only-of-type {\n",
       "        vertical-align: middle;\n",
       "    }\n",
       "\n",
       "    .dataframe tbody tr th {\n",
       "        vertical-align: top;\n",
       "    }\n",
       "\n",
       "    .dataframe thead th {\n",
       "        text-align: right;\n",
       "    }\n",
       "</style>\n",
       "<table border=\"1\" class=\"dataframe\">\n",
       "  <thead>\n",
       "    <tr style=\"text-align: right;\">\n",
       "      <th></th>\n",
       "      <th>ID</th>\n",
       "      <th>Name</th>\n",
       "      <th>Group</th>\n",
       "      <th>Latency</th>\n",
       "      <th>Details</th>\n",
       "      <th>Last Date</th>\n",
       "      <th>Max. Time</th>\n",
       "      <th>Min. Time</th>\n",
       "      <th>lat</th>\n",
       "      <th>lon</th>\n",
       "      <th>Status</th>\n",
       "    </tr>\n",
       "  </thead>\n",
       "  <tbody>\n",
       "    <tr>\n",
       "      <th>96</th>\n",
       "      <td>1014</td>\n",
       "      <td>Antarctica - Syowa</td>\n",
       "      <td>TD UNESCO</td>\n",
       "      <td>2h 46m</td>\n",
       "      <td>Details</td>\n",
       "      <td>09 Apr 2018 08:55</td>\n",
       "      <td>09 Apr 2018 08:55</td>\n",
       "      <td>29 Apr 2011 19:15</td>\n",
       "      <td>-69.008</td>\n",
       "      <td>39.570</td>\n",
       "      <td>Active</td>\n",
       "    </tr>\n",
       "    <tr>\n",
       "      <th>97</th>\n",
       "      <td>1028</td>\n",
       "      <td>Antarctica - Vernadsky</td>\n",
       "      <td>TD UNESCO</td>\n",
       "      <td>1h 2m</td>\n",
       "      <td>Details</td>\n",
       "      <td>09 Apr 2018 10:39</td>\n",
       "      <td>09 Apr 2018 10:39</td>\n",
       "      <td>29 Apr 2011 19:30</td>\n",
       "      <td>-65.250</td>\n",
       "      <td>-64.270</td>\n",
       "      <td>Active</td>\n",
       "    </tr>\n",
       "    <tr>\n",
       "      <th>98</th>\n",
       "      <td>1798</td>\n",
       "      <td>Antigua, Barbuda &amp; Redonda - Barbuda</td>\n",
       "      <td>TD UNESCO</td>\n",
       "      <td>1h 5m</td>\n",
       "      <td>Details</td>\n",
       "      <td>09 Apr 2018 10:36</td>\n",
       "      <td>09 Apr 2018 10:36</td>\n",
       "      <td>07 Jun 2012 19:23</td>\n",
       "      <td>17.890</td>\n",
       "      <td>-61.820</td>\n",
       "      <td>Active</td>\n",
       "    </tr>\n",
       "    <tr>\n",
       "      <th>99</th>\n",
       "      <td>1572</td>\n",
       "      <td>Argentina - Mar del Plata</td>\n",
       "      <td>TD UNESCO</td>\n",
       "      <td>1h 22m</td>\n",
       "      <td>Details</td>\n",
       "      <td>09 Apr 2018 10:19</td>\n",
       "      <td>09 Apr 2018 10:19</td>\n",
       "      <td>29 Apr 2011 19:14</td>\n",
       "      <td>-38.000</td>\n",
       "      <td>-57.539</td>\n",
       "      <td>Active</td>\n",
       "    </tr>\n",
       "    <tr>\n",
       "      <th>100</th>\n",
       "      <td>1794</td>\n",
       "      <td>Argentina - Puerto Deseado</td>\n",
       "      <td>TD UNESCO</td>\n",
       "      <td>1h 7m</td>\n",
       "      <td>Details</td>\n",
       "      <td>09 Apr 2018 10:34</td>\n",
       "      <td>09 Apr 2018 10:34</td>\n",
       "      <td>07 Jun 2012 19:24</td>\n",
       "      <td>-47.754</td>\n",
       "      <td>-65.915</td>\n",
       "      <td>Active</td>\n",
       "    </tr>\n",
       "    <tr>\n",
       "      <th>...</th>\n",
       "      <td>...</td>\n",
       "      <td>...</td>\n",
       "      <td>...</td>\n",
       "      <td>...</td>\n",
       "      <td>...</td>\n",
       "      <td>...</td>\n",
       "      <td>...</td>\n",
       "      <td>...</td>\n",
       "      <td>...</td>\n",
       "      <td>...</td>\n",
       "      <td>...</td>\n",
       "    </tr>\n",
       "    <tr>\n",
       "      <th>658</th>\n",
       "      <td>1027</td>\n",
       "      <td>Vanuatu - Vanuatu</td>\n",
       "      <td>TD UNESCO</td>\n",
       "      <td>30m</td>\n",
       "      <td>Details</td>\n",
       "      <td>09 Apr 2018 12:08</td>\n",
       "      <td>09 Apr 2018 09:11</td>\n",
       "      <td>29 Apr 2011 19:10</td>\n",
       "      <td>-17.755</td>\n",
       "      <td>168.308</td>\n",
       "      <td>Active</td>\n",
       "    </tr>\n",
       "    <tr>\n",
       "      <th>659</th>\n",
       "      <td>1885</td>\n",
       "      <td>Vernadsky - Faraday</td>\n",
       "      <td>TD UNESCO</td>\n",
       "      <td>47m</td>\n",
       "      <td>Details</td>\n",
       "      <td>09 Apr 2018 10:54</td>\n",
       "      <td>09 Apr 2018 09:09</td>\n",
       "      <td>17 Jul 2012 02:24</td>\n",
       "      <td>-65.250</td>\n",
       "      <td>-64.270</td>\n",
       "      <td>Active</td>\n",
       "    </tr>\n",
       "    <tr>\n",
       "      <th>660</th>\n",
       "      <td>1686</td>\n",
       "      <td>Viet Nam - Qui_Nhon</td>\n",
       "      <td>TD UNESCO</td>\n",
       "      <td>36m</td>\n",
       "      <td>Details</td>\n",
       "      <td>09 Apr 2018 11:05</td>\n",
       "      <td>09 Apr 2018 09:11</td>\n",
       "      <td>02 May 2011 22:14</td>\n",
       "      <td>13.775</td>\n",
       "      <td>109.254</td>\n",
       "      <td>Active</td>\n",
       "    </tr>\n",
       "    <tr>\n",
       "      <th>661</th>\n",
       "      <td>1031</td>\n",
       "      <td>Viet Nam - Vung Tau</td>\n",
       "      <td>TD UNESCO</td>\n",
       "      <td>39m</td>\n",
       "      <td>Details</td>\n",
       "      <td>09 Apr 2018 11:02</td>\n",
       "      <td>09 Apr 2018 09:08</td>\n",
       "      <td>11 Mar 2011 05:00</td>\n",
       "      <td>10.340</td>\n",
       "      <td>107.071</td>\n",
       "      <td>Active</td>\n",
       "    </tr>\n",
       "    <tr>\n",
       "      <th>662</th>\n",
       "      <td>1627</td>\n",
       "      <td>Yemen - Aden</td>\n",
       "      <td>TD UNESCO</td>\n",
       "      <td>1h 3m</td>\n",
       "      <td>Details</td>\n",
       "      <td>09 Apr 2018 10:38</td>\n",
       "      <td>09 Apr 2018 04:42</td>\n",
       "      <td>02 May 2011 22:15</td>\n",
       "      <td>12.788</td>\n",
       "      <td>44.974</td>\n",
       "      <td>Active</td>\n",
       "    </tr>\n",
       "  </tbody>\n",
       "</table>\n",
       "<p>567 rows × 11 columns</p>\n",
       "</div>"
      ],
      "text/plain": [
       "       ID                                  Name      Group Latency  Details  \\\n",
       "96   1014                   Antarctica - Syowa   TD UNESCO  2h 46m  Details   \n",
       "97   1028               Antarctica - Vernadsky   TD UNESCO   1h 2m  Details   \n",
       "98   1798  Antigua, Barbuda & Redonda - Barbuda  TD UNESCO   1h 5m  Details   \n",
       "99   1572            Argentina - Mar del Plata   TD UNESCO  1h 22m  Details   \n",
       "100  1794            Argentina - Puerto Deseado  TD UNESCO   1h 7m  Details   \n",
       "..    ...                                   ...        ...     ...      ...   \n",
       "658  1027                    Vanuatu - Vanuatu   TD UNESCO     30m  Details   \n",
       "659  1885                   Vernadsky - Faraday  TD UNESCO     47m  Details   \n",
       "660  1686                   Viet Nam - Qui_Nhon  TD UNESCO     36m  Details   \n",
       "661  1031                  Viet Nam - Vung Tau   TD UNESCO     39m  Details   \n",
       "662  1627                          Yemen - Aden  TD UNESCO   1h 3m  Details   \n",
       "\n",
       "              Last Date           Max. Time           Min. Time     lat  \\\n",
       "96    09 Apr 2018 08:55   09 Apr 2018 08:55   29 Apr 2011 19:15 -69.008   \n",
       "97    09 Apr 2018 10:39   09 Apr 2018 10:39   29 Apr 2011 19:30 -65.250   \n",
       "98    09 Apr 2018 10:36   09 Apr 2018 10:36   07 Jun 2012 19:23  17.890   \n",
       "99    09 Apr 2018 10:19   09 Apr 2018 10:19   29 Apr 2011 19:14 -38.000   \n",
       "100   09 Apr 2018 10:34   09 Apr 2018 10:34   07 Jun 2012 19:24 -47.754   \n",
       "..                  ...                 ...                 ...     ...   \n",
       "658   09 Apr 2018 12:08   09 Apr 2018 09:11   29 Apr 2011 19:10 -17.755   \n",
       "659   09 Apr 2018 10:54   09 Apr 2018 09:09   17 Jul 2012 02:24 -65.250   \n",
       "660   09 Apr 2018 11:05   09 Apr 2018 09:11   02 May 2011 22:14  13.775   \n",
       "661   09 Apr 2018 11:02   09 Apr 2018 09:08   11 Mar 2011 05:00  10.340   \n",
       "662   09 Apr 2018 10:38   09 Apr 2018 04:42   02 May 2011 22:15  12.788   \n",
       "\n",
       "         lon  Status  \n",
       "96    39.570  Active  \n",
       "97   -64.270  Active  \n",
       "98   -61.820  Active  \n",
       "99   -57.539  Active  \n",
       "100  -65.915  Active  \n",
       "..       ...     ...  \n",
       "658  168.308  Active  \n",
       "659  -64.270  Active  \n",
       "660  109.254  Active  \n",
       "661  107.071  Active  \n",
       "662   44.974  Active  \n",
       "\n",
       "[567 rows x 11 columns]"
      ]
     },
     "execution_count": 7,
     "metadata": {},
     "output_type": "execute_result"
    }
   ],
   "source": [
    "critech.loc[critech.Group=='TD UNESCO']"
   ]
  },
  {
   "cell_type": "code",
   "execution_count": 411,
   "metadata": {},
   "outputs": [],
   "source": [
    "#DART Pacific\n",
    "url = 'http://webcritech.jrc.ec.europa.eu/SeaLevelsDb/Home/ShowBuoyData?id=1712&dateMin=2013%2F10%2F28+01%3A00&dateMax=2013%2F10%2F31+12%3A00&field=&options='"
   ]
  },
  {
   "cell_type": "code",
   "execution_count": 76,
   "metadata": {},
   "outputs": [],
   "source": [
    "#TD UNESCO\n",
    "url = 'http://webcritech.jrc.ec.europa.eu/SeaLevelsDb/Home/ShowBuoyData?id=2368&dateMin=2018%2F09%2F01+00%3A00&dateMax=2018%2F09%2F06+00%3A00&field=&options='"
   ]
  },
  {
   "cell_type": "code",
   "execution_count": 225,
   "metadata": {},
   "outputs": [],
   "source": [
    "#ISPRA\n",
    "url = 'http://webcritech.jrc.ec.europa.eu/SeaLevelsDb/Home/ShowBuoyData?id=1841&dateMin=2018%2F09%2F01+00%3A00&dateMax=2018%2F09%2F04+12%3A00&field=&options='"
   ]
  },
  {
   "cell_type": "code",
   "execution_count": 405,
   "metadata": {},
   "outputs": [],
   "source": [
    "#TADSERVER\n",
    "url = 'http://webcritech.jrc.ec.europa.eu/SeaLevelsDb/Home/ShowBuoyData?id=100154&dateMin=2019%2F03%2F01+00%3A00&dateMax=2019%2F03%2F04+12%3A00&field=&options='"
   ]
  },
  {
   "cell_type": "code",
   "execution_count": 430,
   "metadata": {},
   "outputs": [],
   "source": [
    "#TADSERVER\n",
    "url = 'http://webcritech.jrc.ec.europa.eu/SeaLevelsDb/Home/ShowBuoyData?id=100075&dateMin=2018%2F09%2F01+00%3A00&dateMax=2018%2F09%2F04+12%3A00&field=&options='"
   ]
  },
  {
   "cell_type": "code",
   "execution_count": 278,
   "metadata": {},
   "outputs": [],
   "source": [
    "#DMI\n",
    "url = 'http://webcritech.jrc.ec.europa.eu/SeaLevelsDb/Home/ShowBuoyData?id=2574&dateMin=2018%2F09%2F01+00%3A00&dateMax=2018%2F09%2F04+12%3A00&field=&options='"
   ]
  },
  {
   "cell_type": "code",
   "execution_count": 186,
   "metadata": {},
   "outputs": [],
   "source": [
    "#FMI\n",
    "url = 'http://webcritech.jrc.ec.europa.eu/SeaLevelsDb/Home/ShowBuoyData?id=2344&dateMin=2018%2F09%2F01+00%3A00&dateMax=2018%2F09%2F04+12%3A00&field=&options='"
   ]
  },
  {
   "cell_type": "code",
   "execution_count": 199,
   "metadata": {},
   "outputs": [],
   "source": [
    "#IOOS\n",
    "url = 'http://webcritech.jrc.ec.europa.eu/SeaLevelsDb/Home/ShowBuoyData?id=1988&dateMin=2018%2F09%2F01+00%3A00&dateMax=2018%2F09%2F04+12%3A00&field=&options='"
   ]
  },
  {
   "cell_type": "code",
   "execution_count": 212,
   "metadata": {},
   "outputs": [],
   "source": [
    "#Ign\n",
    "url = 'http://webcritech.jrc.ec.europa.eu/SeaLevelsDb/Home/ShowBuoyData?id=2551&dateMin=2018%2F09%2F01+00%3A00&dateMax=2018%2F09%2F04+12%3A00&field=&options='"
   ]
  },
  {
   "cell_type": "code",
   "execution_count": 292,
   "metadata": {},
   "outputs": [],
   "source": [
    "#TAD\n",
    "url = 'http://webcritech.jrc.ec.europa.eu/SeaLevelsDb/Home/ShowBuoyData?id=1044&dateMin=2018%2F09%2F01+00%3A00&dateMax=2018%2F09%2F04+12%3A00&field=&options='"
   ]
  },
  {
   "cell_type": "code",
   "execution_count": null,
   "metadata": {},
   "outputs": [],
   "source": []
  },
  {
   "cell_type": "code",
   "execution_count": 431,
   "metadata": {},
   "outputs": [],
   "source": [
    "response = requests.get(url)"
   ]
  },
  {
   "cell_type": "code",
   "execution_count": 432,
   "metadata": {},
   "outputs": [],
   "source": [
    "ls = response.content"
   ]
  },
  {
   "cell_type": "code",
   "execution_count": 433,
   "metadata": {},
   "outputs": [
    {
     "data": {
      "text/plain": [
       "{'Cache-Control': 'no-cache', 'Pragma': 'no-cache', 'Content-Length': '4414', 'Content-Type': 'text/plain; charset=utf-8', 'Expires': '-1', 'X-AspNet-Version': '4.0.30319', 'X-Frame-Options': 'SAMEORIGIN', 'Content-Security-Policy': \"default-src 'self' 'unsafe-inline' 'unsafe-eval' http://europa.eu http://webcritech.jrc.ec.europa.eu https://dev.virtualearth.net ws://webcritech.jrc.ec.europa.eu ;img-src * data: blob:\", 'X-Content-Type-Options': 'nosniff', 'X-XSS-Protection': '1; mode=block', 'Access-Control-Allow-Origin': '*', 'Date': 'Thu, 06 Jun 2019 11:19:31 GMT'}"
      ]
     },
     "execution_count": 433,
     "metadata": {},
     "output_type": "execute_result"
    }
   ],
   "source": [
    "response.headers"
   ]
  },
  {
   "cell_type": "code",
   "execution_count": 434,
   "metadata": {},
   "outputs": [],
   "source": [
    "lp = ls.decode('utf-8').strip().split('\\n')"
   ]
  },
  {
   "cell_type": "code",
   "execution_count": 435,
   "metadata": {},
   "outputs": [
    {
     "data": {
      "text/plain": [
       "['# Data extraction for deviceID=NOA-01 (ID=75) on 06 Jun 2019 11:19:29\\r',\n",
       " '#  lat=36.1139 lon=28.0696 hei=0  Location: Kalathos (Rhodes - Greece)  Last Date: 31 Dec 2017 21:26:47  Latency: 521.13:52:44.3238180\\r',\n",
       " '# Server=webcritech.jrc.ec.europa.eu\\r',\n",
       " '# HARMONICS=0,0.450100296513283,0|0.128766334283776,0.000211113737385466,0.00055020366688962|0.128857194376164,-0.000593681166343651,0.000319794038854997|0.129381266016223,-0.000150256529390057,-0.000689648822368872|0.147068369304709,-0.000634695916357797,-0.000612360410436581|0.168413975812495,0.000417881891539684,0.000650903835435826|0.168569435980517,-0.000717056363547008,0.000599584978947277|0.170357083547568,-0.000777645947704281,0.000100364996778048|0.170516143636361,0.000111734400693325,-0.000895563115861178|0.172508349331654,0.000729253468706749,0.000425112068621232|0.174695758496972,0.000682838842631192,0.00043275728107833|0.199890544415426,0.000395037095758777,0.00114206110869765|0.205453337753506,0.000722369098331743,-0.00021549229992581|0.249658233357344,0.000720568432309465,0.000516536857116777|0.249999992,-0.00107855540252112,-0.00134326764634574|0.253952177489379,0.000323874598294778,-0.000820281228810012|0.254305803118864,0.000808968555298494,0.000109051724354926|0.25631444055176,-0.000130598188169697,-0.00105180122617995|0.256674704014076,0.000754336150381257,0.000264030753550367|0.258762532032447,-0.000823464158411007,0.000644229232227961|0.261215591287424,-0.000464856141574384,0.000761393526404046|0.333029389398687,0.00205756820899915,-0.00109639225522809|0.340714167095135,-0.000185659729659935,0.000927336087347346|0.341351021629882,-0.000873334300354426,-0.00057215939415038|0.34501669723487,0.000385079165736838,0.00177984599146664|0.349429284557433,0.000500531846891526,-0.00140026593883173|0.489771751709733,-0.00115602954926242,0.000620513263468218|0.491088802767104,-0.00189132830207435,0.000217226837604679|0.498634767923513,0.00379659029727861,0.00675943089491778|0.499316511591742,1.0066059296477E-05,0.00267744703840152|0.499999984,-0.00215480675005249,-0.0321905518208683|0.507984165946608,-0.000638585578961292,0.00132989897469922|0.509240592196617,0.00156559900930735,-1.45751065282882E-05|0.51606260547855,-0.00146774964165008,0.000777413704769955|0.516792827371988,-0.00234818271034062,0.000724821095782805|0.517525060850908,-0.0578535064366275,-0.0147437646233523|0.518259333570738,-0.000211084978896477,-0.0002287811868941|0.526083541864433,-0.000555413370975207,-0.00091986750563781|0.527431160919067,-0.00362212418722912,0.00779153304486373|0.536323226339296,0.000347853736940994,0.000670445609606467|0.537723941372983,0.000403281250946086,-0.000176104089155485|0.546969491030712,0.00119749289274261,0.000641335110745047|0.548426385474333,-5.48609016842099E-05,-0.00139524310391506|0.899093169594225,0.000504626674779151,-0.00062522424891016|0.92941980084125,0.000247074412581731,5.21175638614803E-05|0.934174122926896,-0.000231996660821793,0.000540323316919783|0.962436511046921,-0.00136876059143941,-0.00118835570990766|0.966956557148237,0.00325509983521035,0.000719372532995803|0.991853148349387,-0.00407323009782778,0.00273743319037087|0.994554139787846,0.00209560356983564,0.000983469986790106|0.997269547781583,0.00670552629486524,-0.0250827683520267|0.999999872000017,-0.000414985040136252,0.00664353757475819|1.00274540461034,0.00907353890418118,-0.00153425647497725|1.00550583624144,0.00249661128637569,-0.00282283617939421|1.02954467892393,0.000301385984581976,-0.00206900563746082|1.03471863450781,0.00116194489957763,-0.00184097691016114|1.04061468326798,9.99111070462197E-06,0.00175710113170925|1.06950552105274,0.00123453195142654,-0.000996673277978539|1.07580588726596,-0.00853876617764793,-0.00648724601569036|1.11346057230323,-0.0021182726955943,0.000590515262417405|1.11951481625018,-0.00204434748293016,0.00197306073586071|1.16034950581132,-0.00126037683936066,0.00226500945896417|1.16692589225208,-0.000340372798524376,0.000390040330132358|1.21136109404707,-0.00127960931364874,-0.000235992593410345|13.6607901226149,0.0027954646979087,0.00500782213707083|14.7652926794033,0.0074609316874397,0.00108086404276285|27.5545491899403,0.00497221078324005,0.016256549761522|31.8119339543532,-0.00360509314523027,0.00586442654578962|182.621183765123,-0.0127137876088949,0.0220479329115905|365.259977441544,-0.0570612300501688,-0.0500756048235784\\r',\n",
       " '# Time(UTC), Level (m), Tide (m), Level-Tide (m)']"
      ]
     },
     "execution_count": 435,
     "metadata": {},
     "output_type": "execute_result"
    }
   ],
   "source": [
    "lp"
   ]
  },
  {
   "cell_type": "markdown",
   "metadata": {},
   "source": [
    "## Select subset"
   ]
  },
  {
   "cell_type": "code",
   "execution_count": 417,
   "metadata": {},
   "outputs": [
    {
     "data": {
      "text/plain": [
       "['DART Pacific']"
      ]
     },
     "execution_count": 417,
     "metadata": {},
     "output_type": "execute_result"
    }
   ],
   "source": [
    "ss = ls.decode('utf-8').strip()\n",
    "[group for group in ['DMI', 'TAD', 'ISPRA', 'Ign', 'IOOS', 'FMI', 'DART Pacific','TD UNESCO'] if group in ss[:ss.index('HARMONICS')]]"
   ]
  },
  {
   "cell_type": "markdown",
   "metadata": {},
   "source": [
    "## Retrieve data"
   ]
  },
  {
   "cell_type": "code",
   "execution_count": 436,
   "metadata": {},
   "outputs": [
    {
     "name": "stdout",
     "output_type": "stream",
     "text": [
      "# Data extraction for deviceID=NOA-01 (ID=75) on 06 Jun 2019 11:19:29\n",
      "deviceID=NOA-01 \n",
      "NOA-01\n",
      "(ID=75\n",
      "(ID=75\n"
     ]
    },
    {
     "data": {
      "text/plain": [
       "('NOA-01', '75')"
      ]
     },
     "execution_count": 436,
     "metadata": {},
     "output_type": "execute_result"
    }
   ],
   "source": [
    "s1=lp[0].strip()\n",
    "print(s1)\n",
    "at  = s1[s1.index('deviceID='):s1.index('(ID')]\n",
    "print(at)\n",
    "bname = at.strip().split('=')[1]\n",
    "print(bname)\n",
    "at = s1[s1.index('(ID='):s1.index(')')]\n",
    "print(at)\n",
    "if len(at)==0: at = s1[s1.index('(ID='):]\n",
    "print(at)\n",
    "bid = at.strip().split('=')[1].strip(')')\n",
    "bname, bid"
   ]
  },
  {
   "cell_type": "code",
   "execution_count": 437,
   "metadata": {},
   "outputs": [
    {
     "name": "stdout",
     "output_type": "stream",
     "text": [
      "#  lat=36.1139 lon=28.0696 hei=0  Location: Kalathos (Rhodes - Greece)  Last Date: 31 Dec 2017 21:26:47  Latency: 521.13:52:44.3238180\n"
     ]
    },
    {
     "data": {
      "text/plain": [
       "('36.1139',\n",
       " '28.0696',\n",
       " 'Kalathos Rhodes - Greece',\n",
       " '521.13:52:44.3238180',\n",
       " '31 Dec 2017 21:26:47',\n",
       " nan)"
      ]
     },
     "execution_count": 437,
     "metadata": {},
     "output_type": "execute_result"
    }
   ],
   "source": [
    "s1=lp[1].strip()\n",
    "print(s1)\n",
    "\n",
    "at = s1[s1.index('lat='):s1.index('lon')]\n",
    "lat = at.strip().split('=')[1]\n",
    "\n",
    "try:\n",
    "    at = s1[s1.index('lon='):s1.index('hei')]\n",
    "    lon = at.strip().split('=')[1]\n",
    "except:\n",
    "    at = s1[s1.index('lon='):s1.index('Location')]\n",
    "    lon = at.strip().split('=')[1]\n",
    "\n",
    "\n",
    "try:\n",
    "    at = s1[s1.index('Location:'):s1.index('Extraction')]\n",
    "except:\n",
    "    at = s1[s1.index('Location:'):s1.index('Last')]\n",
    "\n",
    "Location = at.strip().split(':')[1].strip('-').strip()\n",
    "Location = ''.join(c for c in Location if c not in '(){}<>\\r\\n#')\n",
    "\n",
    "\n",
    "try:\n",
    "    at = s1[s1.index('Date:'):s1.index('Latency')]\n",
    "    Last_Date = at.strip().split('Date:')[1].strip()\n",
    "    at = s1[s1.index('Latency:'):]\n",
    "    Latency = at.strip().split('Latency:')[1].strip()\n",
    "    Extraction_date = np.nan\n",
    "except:\n",
    "    at = s1[s1.index('Date:'):]\n",
    "    Extraction_date = at.strip().split('Date:')[1].strip()\n",
    "    Latency = np.nan\n",
    "    Last_Date = np.nan\n",
    "\n",
    "lat,lon,Location,Latency,Last_Date,Extraction_date"
   ]
  },
  {
   "cell_type": "code",
   "execution_count": 438,
   "metadata": {},
   "outputs": [],
   "source": [
    "l = 2"
   ]
  },
  {
   "cell_type": "code",
   "execution_count": 439,
   "metadata": {},
   "outputs": [
    {
     "name": "stdout",
     "output_type": "stream",
     "text": [
      "# Server=webcritech.jrc.ec.europa.eu\n"
     ]
    }
   ],
   "source": [
    "try:\n",
    "    s1=lp[l].strip()\n",
    "    print(s1)\n",
    "\n",
    "\n",
    "\n",
    "    at = s1[s1.index('Time:'):s1.index(' - Last')]\n",
    "\n",
    "    Last_Time = at.strip().split('Time:')[1].strip()\n",
    "\n",
    "    at = s1[s1.index('Value:'):]\n",
    "\n",
    "    Last_Value = at.strip().split('Value:')[1].strip()\n",
    "    Last_Value = ''.join(c for c in Last_Value if c not in '(){}<>\\r\\n#')\n",
    "\n",
    "    print(Last_Time, Last_Value)\n",
    "except:\n",
    "    l = l - 1\n"
   ]
  },
  {
   "cell_type": "code",
   "execution_count": 440,
   "metadata": {},
   "outputs": [
    {
     "name": "stdout",
     "output_type": "stream",
     "text": [
      "# Server=webcritech.jrc.ec.europa.eu\n",
      "webcritech.jrc.ec.europa.eu\n"
     ]
    }
   ],
   "source": [
    "l = l + 1\n",
    "s1=lp[l].strip()\n",
    "print(s1)\n",
    "Server = s1.strip().split('=')[1]\n",
    "print(Server)\n",
    "\n"
   ]
  },
  {
   "cell_type": "code",
   "execution_count": 441,
   "metadata": {},
   "outputs": [
    {
     "name": "stdout",
     "output_type": "stream",
     "text": [
      "# HARMONICS=0,0.450100296513283,0|0.128766334283776,0.000211113737385466,0.00055020366688962|0.128857194376164,-0.000593681166343651,0.000319794038854997|0.129381266016223,-0.000150256529390057,-0.000689648822368872|0.147068369304709,-0.000634695916357797,-0.000612360410436581|0.168413975812495,0.000417881891539684,0.000650903835435826|0.168569435980517,-0.000717056363547008,0.000599584978947277|0.170357083547568,-0.000777645947704281,0.000100364996778048|0.170516143636361,0.000111734400693325,-0.000895563115861178|0.172508349331654,0.000729253468706749,0.000425112068621232|0.174695758496972,0.000682838842631192,0.00043275728107833|0.199890544415426,0.000395037095758777,0.00114206110869765|0.205453337753506,0.000722369098331743,-0.00021549229992581|0.249658233357344,0.000720568432309465,0.000516536857116777|0.249999992,-0.00107855540252112,-0.00134326764634574|0.253952177489379,0.000323874598294778,-0.000820281228810012|0.254305803118864,0.000808968555298494,0.000109051724354926|0.25631444055176,-0.000130598188169697,-0.00105180122617995|0.256674704014076,0.000754336150381257,0.000264030753550367|0.258762532032447,-0.000823464158411007,0.000644229232227961|0.261215591287424,-0.000464856141574384,0.000761393526404046|0.333029389398687,0.00205756820899915,-0.00109639225522809|0.340714167095135,-0.000185659729659935,0.000927336087347346|0.341351021629882,-0.000873334300354426,-0.00057215939415038|0.34501669723487,0.000385079165736838,0.00177984599146664|0.349429284557433,0.000500531846891526,-0.00140026593883173|0.489771751709733,-0.00115602954926242,0.000620513263468218|0.491088802767104,-0.00189132830207435,0.000217226837604679|0.498634767923513,0.00379659029727861,0.00675943089491778|0.499316511591742,1.0066059296477E-05,0.00267744703840152|0.499999984,-0.00215480675005249,-0.0321905518208683|0.507984165946608,-0.000638585578961292,0.00132989897469922|0.509240592196617,0.00156559900930735,-1.45751065282882E-05|0.51606260547855,-0.00146774964165008,0.000777413704769955|0.516792827371988,-0.00234818271034062,0.000724821095782805|0.517525060850908,-0.0578535064366275,-0.0147437646233523|0.518259333570738,-0.000211084978896477,-0.0002287811868941|0.526083541864433,-0.000555413370975207,-0.00091986750563781|0.527431160919067,-0.00362212418722912,0.00779153304486373|0.536323226339296,0.000347853736940994,0.000670445609606467|0.537723941372983,0.000403281250946086,-0.000176104089155485|0.546969491030712,0.00119749289274261,0.000641335110745047|0.548426385474333,-5.48609016842099E-05,-0.00139524310391506|0.899093169594225,0.000504626674779151,-0.00062522424891016|0.92941980084125,0.000247074412581731,5.21175638614803E-05|0.934174122926896,-0.000231996660821793,0.000540323316919783|0.962436511046921,-0.00136876059143941,-0.00118835570990766|0.966956557148237,0.00325509983521035,0.000719372532995803|0.991853148349387,-0.00407323009782778,0.00273743319037087|0.994554139787846,0.00209560356983564,0.000983469986790106|0.997269547781583,0.00670552629486524,-0.0250827683520267|0.999999872000017,-0.000414985040136252,0.00664353757475819|1.00274540461034,0.00907353890418118,-0.00153425647497725|1.00550583624144,0.00249661128637569,-0.00282283617939421|1.02954467892393,0.000301385984581976,-0.00206900563746082|1.03471863450781,0.00116194489957763,-0.00184097691016114|1.04061468326798,9.99111070462197E-06,0.00175710113170925|1.06950552105274,0.00123453195142654,-0.000996673277978539|1.07580588726596,-0.00853876617764793,-0.00648724601569036|1.11346057230323,-0.0021182726955943,0.000590515262417405|1.11951481625018,-0.00204434748293016,0.00197306073586071|1.16034950581132,-0.00126037683936066,0.00226500945896417|1.16692589225208,-0.000340372798524376,0.000390040330132358|1.21136109404707,-0.00127960931364874,-0.000235992593410345|13.6607901226149,0.0027954646979087,0.00500782213707083|14.7652926794033,0.0074609316874397,0.00108086404276285|27.5545491899403,0.00497221078324005,0.016256549761522|31.8119339543532,-0.00360509314523027,0.00586442654578962|182.621183765123,-0.0127137876088949,0.0220479329115905|365.259977441544,-0.0570612300501688,-0.0500756048235784\n"
     ]
    }
   ],
   "source": [
    "l = l + 1\n",
    "s1=lp[l].strip()\n",
    "print(s1)\n",
    "\n",
    "tr = pd.Series(s1.strip().split('=')[1].split('|'))\n",
    "tr = pd.DataFrame(tr.str.split(',', expand=True))\n",
    "\n"
   ]
  },
  {
   "cell_type": "code",
   "execution_count": 442,
   "metadata": {},
   "outputs": [
    {
     "data": {
      "text/html": [
       "<div>\n",
       "<style scoped>\n",
       "    .dataframe tbody tr th:only-of-type {\n",
       "        vertical-align: middle;\n",
       "    }\n",
       "\n",
       "    .dataframe tbody tr th {\n",
       "        vertical-align: top;\n",
       "    }\n",
       "\n",
       "    .dataframe thead th {\n",
       "        text-align: right;\n",
       "    }\n",
       "</style>\n",
       "<table border=\"1\" class=\"dataframe\">\n",
       "  <thead>\n",
       "    <tr style=\"text-align: right;\">\n",
       "      <th></th>\n",
       "      <th>h1</th>\n",
       "      <th>h2</th>\n",
       "      <th>h3</th>\n",
       "    </tr>\n",
       "  </thead>\n",
       "  <tbody>\n",
       "    <tr>\n",
       "      <th>0</th>\n",
       "      <td>0</td>\n",
       "      <td>0.450100296513283</td>\n",
       "      <td>0</td>\n",
       "    </tr>\n",
       "    <tr>\n",
       "      <th>1</th>\n",
       "      <td>0.128766334283776</td>\n",
       "      <td>0.000211113737385466</td>\n",
       "      <td>0.00055020366688962</td>\n",
       "    </tr>\n",
       "    <tr>\n",
       "      <th>2</th>\n",
       "      <td>0.128857194376164</td>\n",
       "      <td>-0.000593681166343651</td>\n",
       "      <td>0.000319794038854997</td>\n",
       "    </tr>\n",
       "    <tr>\n",
       "      <th>3</th>\n",
       "      <td>0.129381266016223</td>\n",
       "      <td>-0.000150256529390057</td>\n",
       "      <td>-0.000689648822368872</td>\n",
       "    </tr>\n",
       "    <tr>\n",
       "      <th>4</th>\n",
       "      <td>0.147068369304709</td>\n",
       "      <td>-0.000634695916357797</td>\n",
       "      <td>-0.000612360410436581</td>\n",
       "    </tr>\n",
       "  </tbody>\n",
       "</table>\n",
       "</div>"
      ],
      "text/plain": [
       "                  h1                     h2                     h3\n",
       "0                  0      0.450100296513283                      0\n",
       "1  0.128766334283776   0.000211113737385466    0.00055020366688962\n",
       "2  0.128857194376164  -0.000593681166343651   0.000319794038854997\n",
       "3  0.129381266016223  -0.000150256529390057  -0.000689648822368872\n",
       "4  0.147068369304709  -0.000634695916357797  -0.000612360410436581"
      ]
     },
     "execution_count": 442,
     "metadata": {},
     "output_type": "execute_result"
    }
   ],
   "source": [
    "tr.columns = ['h1','h2','h3']\n",
    "tr.head()"
   ]
  },
  {
   "cell_type": "code",
   "execution_count": 443,
   "metadata": {},
   "outputs": [
    {
     "data": {
      "text/plain": [
       "['TimeUTC', 'Level m', 'Tide m', 'Level-Tide m']"
      ]
     },
     "execution_count": 443,
     "metadata": {},
     "output_type": "execute_result"
    }
   ],
   "source": [
    "l += 1\n",
    "s1 = lp[l]\n",
    "headers = ''.join(c for c in s1 if c not in '(){}<>\\r\\n#').split(',')\n",
    "headers = [x.strip() for x in headers]\n",
    "headers"
   ]
  },
  {
   "cell_type": "code",
   "execution_count": 444,
   "metadata": {},
   "outputs": [],
   "source": [
    "try:\n",
    "    dat = pd.Series(lp[l+1:])\n",
    "    dat = pd.DataFrame(dat.str.split(',', expand=True))\n",
    "    dat.columns = headers\n",
    "    dat[dat.columns[-1]] = dat[dat.columns[-1]].str.strip('\\r')\n",
    "    dat.head()\n",
    "except:\n",
    "    dat = pd.DataFrame({'TimeUTC':np.nan, 'Level m':np.nan, 'Tide m':np.nan, 'Level-Tide m':np.nan}, index=[0])"
   ]
  },
  {
   "cell_type": "code",
   "execution_count": 445,
   "metadata": {},
   "outputs": [],
   "source": [
    "dat = dat.set_index(dat.columns[0])"
   ]
  },
  {
   "cell_type": "code",
   "execution_count": 446,
   "metadata": {},
   "outputs": [],
   "source": [
    "try:\n",
    "    dat.index = pd.to_datetime(dat.index)\n",
    "except:\n",
    "    pass"
   ]
  },
  {
   "cell_type": "code",
   "execution_count": 447,
   "metadata": {},
   "outputs": [
    {
     "data": {
      "text/html": [
       "<div>\n",
       "<style scoped>\n",
       "    .dataframe tbody tr th:only-of-type {\n",
       "        vertical-align: middle;\n",
       "    }\n",
       "\n",
       "    .dataframe tbody tr th {\n",
       "        vertical-align: top;\n",
       "    }\n",
       "\n",
       "    .dataframe thead th {\n",
       "        text-align: right;\n",
       "    }\n",
       "</style>\n",
       "<table border=\"1\" class=\"dataframe\">\n",
       "  <thead>\n",
       "    <tr style=\"text-align: right;\">\n",
       "      <th></th>\n",
       "      <th>Level m</th>\n",
       "      <th>Tide m</th>\n",
       "      <th>Level-Tide m</th>\n",
       "    </tr>\n",
       "    <tr>\n",
       "      <th>TimeUTC</th>\n",
       "      <th></th>\n",
       "      <th></th>\n",
       "      <th></th>\n",
       "    </tr>\n",
       "  </thead>\n",
       "  <tbody>\n",
       "    <tr>\n",
       "      <th>NaN</th>\n",
       "      <td>NaN</td>\n",
       "      <td>NaN</td>\n",
       "      <td>NaN</td>\n",
       "    </tr>\n",
       "  </tbody>\n",
       "</table>\n",
       "</div>"
      ],
      "text/plain": [
       "         Level m  Tide m  Level-Tide m\n",
       "TimeUTC                               \n",
       "NaN          NaN     NaN           NaN"
      ]
     },
     "execution_count": 447,
     "metadata": {},
     "output_type": "execute_result"
    }
   ],
   "source": [
    "dat"
   ]
  },
  {
   "cell_type": "code",
   "execution_count": null,
   "metadata": {},
   "outputs": [],
   "source": []
  }
 ],
 "metadata": {
  "kernelspec": {
   "display_name": "pyPoseidon",
   "language": "python",
   "name": "pyposeidon"
  },
  "language_info": {
   "codemirror_mode": {
    "name": "ipython",
    "version": 3
   },
   "file_extension": ".py",
   "mimetype": "text/x-python",
   "name": "python",
   "nbconvert_exporter": "python",
   "pygments_lexer": "ipython3",
   "version": "3.8.12"
  }
 },
 "nbformat": 4,
 "nbformat_minor": 4
}
