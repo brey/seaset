{
 "cells": [
  {
   "cell_type": "markdown",
   "id": "3fadd6e0",
   "metadata": {},
   "source": [
    "### CMEMS With opendap"
   ]
  },
  {
   "cell_type": "code",
   "execution_count": 1,
   "id": "b28f0c29",
   "metadata": {},
   "outputs": [],
   "source": [
    "import xarray as xr"
   ]
  },
  {
   "cell_type": "code",
   "execution_count": 2,
   "id": "1842d4b5",
   "metadata": {},
   "outputs": [],
   "source": [
    "def copernicusmarine_datastore(dataset, username, password):\n",
    "    from pydap.client import open_url\n",
    "    from pydap.cas.get_cookies import setup_session\n",
    "    cas_url = 'https://cmems-cas.cls.fr/cas/login'\n",
    "    session = setup_session(cas_url, username, password)\n",
    "    session.cookies.set(\"CASTGC\", session.cookies.get_dict()['CASTGC'])\n",
    "    database = ['my', 'nrt']\n",
    "    url = f'https://{database[0]}.cmems-du.eu/thredds/dodsC/{dataset}'\n",
    "    try:\n",
    "        data_store = xr.backends.PydapDataStore(open_url(url, session=session, user_charset='utf-8')) # needs PyDAP >= v3.3.0 see https://github.com/pydap/pydap/pull/223/commits \n",
    "    except:\n",
    "        url = f'https://{database[1]}.cmems-du.eu/thredds/dodsC/{dataset}'\n",
    "        data_store = xr.backends.PydapDataStore(open_url(url, session=session, user_charset='utf-8')) # needs PyDAP >= v3.3.0 see https://github.com/pydap/pydap/pull/223/commits\n",
    "    return data_store"
   ]
  },
  {
   "cell_type": "code",
   "execution_count": 3,
   "id": "c4335bd0",
   "metadata": {},
   "outputs": [],
   "source": [
    "USERNAME = 'gbreyiannis'\n",
    "PASSWORD = 'ZH2&Wfk3oWkU'"
   ]
  },
  {
   "cell_type": "code",
   "execution_count": 4,
   "id": "33e883bb",
   "metadata": {},
   "outputs": [],
   "source": [
    "DATASET_ID = 'glo_multiparameter_nrt_pointserie_latest'"
   ]
  },
  {
   "cell_type": "code",
   "execution_count": null,
   "id": "d483357f",
   "metadata": {},
   "outputs": [],
   "source": [
    "DATASET_ID = 'global-analysis-forecast-wav-001-027'"
   ]
  },
  {
   "cell_type": "code",
   "execution_count": 5,
   "id": "57f52de2",
   "metadata": {},
   "outputs": [
    {
     "ename": "AttributeError",
     "evalue": "You cannot set the charset when no content-type is defined",
     "output_type": "error",
     "traceback": [
      "\u001b[0;31m---------------------------------------------------------------------------\u001b[0m",
      "\u001b[0;31mAttributeError\u001b[0m                            Traceback (most recent call last)",
      "\u001b[0;32m/var/folders/rz/63vzrg3547x1_d0z04_vrb_00000gn/T/ipykernel_62590/3770715438.py\u001b[0m in \u001b[0;36mcopernicusmarine_datastore\u001b[0;34m(dataset, username, password)\u001b[0m\n\u001b[1;32m      9\u001b[0m     \u001b[0;32mtry\u001b[0m\u001b[0;34m:\u001b[0m\u001b[0;34m\u001b[0m\u001b[0;34m\u001b[0m\u001b[0m\n\u001b[0;32m---> 10\u001b[0;31m         \u001b[0mdata_store\u001b[0m \u001b[0;34m=\u001b[0m \u001b[0mxr\u001b[0m\u001b[0;34m.\u001b[0m\u001b[0mbackends\u001b[0m\u001b[0;34m.\u001b[0m\u001b[0mPydapDataStore\u001b[0m\u001b[0;34m(\u001b[0m\u001b[0mopen_url\u001b[0m\u001b[0;34m(\u001b[0m\u001b[0murl\u001b[0m\u001b[0;34m,\u001b[0m \u001b[0msession\u001b[0m\u001b[0;34m=\u001b[0m\u001b[0msession\u001b[0m\u001b[0;34m,\u001b[0m \u001b[0muser_charset\u001b[0m\u001b[0;34m=\u001b[0m\u001b[0;34m'utf-8'\u001b[0m\u001b[0;34m)\u001b[0m\u001b[0;34m)\u001b[0m \u001b[0;31m# needs PyDAP >= v3.3.0 see https://github.com/pydap/pydap/pull/223/commits\u001b[0m\u001b[0;34m\u001b[0m\u001b[0;34m\u001b[0m\u001b[0m\n\u001b[0m\u001b[1;32m     11\u001b[0m     \u001b[0;32mexcept\u001b[0m\u001b[0;34m:\u001b[0m\u001b[0;34m\u001b[0m\u001b[0;34m\u001b[0m\u001b[0m\n",
      "\u001b[0;32m~/miniconda3/envs/searvey/lib/python3.9/site-packages/pydap/client.py\u001b[0m in \u001b[0;36mopen_url\u001b[0;34m(url, application, session, output_grid, timeout, verify, user_charset)\u001b[0m\n\u001b[1;32m     65\u001b[0m     \"\"\"\n\u001b[0;32m---> 66\u001b[0;31m     dataset = DAPHandler(url, application, session, output_grid,\n\u001b[0m\u001b[1;32m     67\u001b[0m                          \u001b[0mtimeout\u001b[0m\u001b[0;34m=\u001b[0m\u001b[0mtimeout\u001b[0m\u001b[0;34m,\u001b[0m \u001b[0mverify\u001b[0m\u001b[0;34m=\u001b[0m\u001b[0mverify\u001b[0m\u001b[0;34m,\u001b[0m\u001b[0;34m\u001b[0m\u001b[0;34m\u001b[0m\u001b[0m\n",
      "\u001b[0;32m~/miniconda3/envs/searvey/lib/python3.9/site-packages/pydap/handlers/dap.py\u001b[0m in \u001b[0;36m__init__\u001b[0;34m(self, url, application, session, output_grid, timeout, verify, user_charset)\u001b[0m\n\u001b[1;32m     56\u001b[0m         \u001b[0mraise_for_status\u001b[0m\u001b[0;34m(\u001b[0m\u001b[0mr\u001b[0m\u001b[0;34m)\u001b[0m\u001b[0;34m\u001b[0m\u001b[0;34m\u001b[0m\u001b[0m\n\u001b[0;32m---> 57\u001b[0;31m         \u001b[0mdds\u001b[0m \u001b[0;34m=\u001b[0m \u001b[0msafe_charset_text\u001b[0m\u001b[0;34m(\u001b[0m\u001b[0mr\u001b[0m\u001b[0;34m,\u001b[0m \u001b[0muser_charset\u001b[0m\u001b[0;34m)\u001b[0m\u001b[0;34m\u001b[0m\u001b[0;34m\u001b[0m\u001b[0m\n\u001b[0m\u001b[1;32m     58\u001b[0m \u001b[0;34m\u001b[0m\u001b[0m\n",
      "\u001b[0;32m~/miniconda3/envs/searvey/lib/python3.9/site-packages/pydap/handlers/dap.py\u001b[0m in \u001b[0;36msafe_charset_text\u001b[0;34m(r, user_charset)\u001b[0m\n\u001b[1;32m    115\u001b[0m     \u001b[0;32melse\u001b[0m\u001b[0;34m:\u001b[0m\u001b[0;34m\u001b[0m\u001b[0;34m\u001b[0m\u001b[0m\n\u001b[0;32m--> 116\u001b[0;31m         \u001b[0mr\u001b[0m\u001b[0;34m.\u001b[0m\u001b[0mcharset\u001b[0m \u001b[0;34m=\u001b[0m \u001b[0mget_charset\u001b[0m\u001b[0;34m(\u001b[0m\u001b[0mr\u001b[0m\u001b[0;34m,\u001b[0m \u001b[0muser_charset\u001b[0m\u001b[0;34m)\u001b[0m\u001b[0;34m\u001b[0m\u001b[0;34m\u001b[0m\u001b[0m\n\u001b[0m\u001b[1;32m    117\u001b[0m         \u001b[0;32mreturn\u001b[0m \u001b[0mr\u001b[0m\u001b[0;34m.\u001b[0m\u001b[0mtext\u001b[0m\u001b[0;34m\u001b[0m\u001b[0;34m\u001b[0m\u001b[0m\n",
      "\u001b[0;32m~/miniconda3/envs/searvey/lib/python3.9/site-packages/webob/response.py\u001b[0m in \u001b[0;36m_charset__set\u001b[0;34m(self, charset)\u001b[0m\n\u001b[1;32m    794\u001b[0m         \u001b[0;32mif\u001b[0m \u001b[0mheader\u001b[0m \u001b[0;32mis\u001b[0m \u001b[0;32mNone\u001b[0m\u001b[0;34m:\u001b[0m\u001b[0;34m\u001b[0m\u001b[0;34m\u001b[0m\u001b[0m\n\u001b[0;32m--> 795\u001b[0;31m             raise AttributeError(\"You cannot set the charset when no \"\n\u001b[0m\u001b[1;32m    796\u001b[0m                                  \"content-type is defined\")\n",
      "\u001b[0;31mAttributeError\u001b[0m: You cannot set the charset when no content-type is defined",
      "\nDuring handling of the above exception, another exception occurred:\n",
      "\u001b[0;31mAttributeError\u001b[0m                            Traceback (most recent call last)",
      "\u001b[0;32m/var/folders/rz/63vzrg3547x1_d0z04_vrb_00000gn/T/ipykernel_62590/1615255788.py\u001b[0m in \u001b[0;36m<module>\u001b[0;34m\u001b[0m\n\u001b[0;32m----> 1\u001b[0;31m \u001b[0mdata_store\u001b[0m \u001b[0;34m=\u001b[0m \u001b[0mcopernicusmarine_datastore\u001b[0m\u001b[0;34m(\u001b[0m\u001b[0mDATASET_ID\u001b[0m\u001b[0;34m,\u001b[0m \u001b[0mUSERNAME\u001b[0m\u001b[0;34m,\u001b[0m \u001b[0mPASSWORD\u001b[0m\u001b[0;34m)\u001b[0m\u001b[0;34m\u001b[0m\u001b[0;34m\u001b[0m\u001b[0m\n\u001b[0m",
      "\u001b[0;32m/var/folders/rz/63vzrg3547x1_d0z04_vrb_00000gn/T/ipykernel_62590/3770715438.py\u001b[0m in \u001b[0;36mcopernicusmarine_datastore\u001b[0;34m(dataset, username, password)\u001b[0m\n\u001b[1;32m     11\u001b[0m     \u001b[0;32mexcept\u001b[0m\u001b[0;34m:\u001b[0m\u001b[0;34m\u001b[0m\u001b[0;34m\u001b[0m\u001b[0m\n\u001b[1;32m     12\u001b[0m         \u001b[0murl\u001b[0m \u001b[0;34m=\u001b[0m \u001b[0;34mf'https://{database[1]}.cmems-du.eu/thredds/dodsC/{dataset}'\u001b[0m\u001b[0;34m\u001b[0m\u001b[0;34m\u001b[0m\u001b[0m\n\u001b[0;32m---> 13\u001b[0;31m         \u001b[0mdata_store\u001b[0m \u001b[0;34m=\u001b[0m \u001b[0mxr\u001b[0m\u001b[0;34m.\u001b[0m\u001b[0mbackends\u001b[0m\u001b[0;34m.\u001b[0m\u001b[0mPydapDataStore\u001b[0m\u001b[0;34m(\u001b[0m\u001b[0mopen_url\u001b[0m\u001b[0;34m(\u001b[0m\u001b[0murl\u001b[0m\u001b[0;34m,\u001b[0m \u001b[0msession\u001b[0m\u001b[0;34m=\u001b[0m\u001b[0msession\u001b[0m\u001b[0;34m,\u001b[0m \u001b[0muser_charset\u001b[0m\u001b[0;34m=\u001b[0m\u001b[0;34m'utf-8'\u001b[0m\u001b[0;34m)\u001b[0m\u001b[0;34m)\u001b[0m \u001b[0;31m# needs PyDAP >= v3.3.0 see https://github.com/pydap/pydap/pull/223/commits\u001b[0m\u001b[0;34m\u001b[0m\u001b[0;34m\u001b[0m\u001b[0m\n\u001b[0m\u001b[1;32m     14\u001b[0m     \u001b[0;32mreturn\u001b[0m \u001b[0mdata_store\u001b[0m\u001b[0;34m\u001b[0m\u001b[0;34m\u001b[0m\u001b[0m\n",
      "\u001b[0;32m~/miniconda3/envs/searvey/lib/python3.9/site-packages/pydap/client.py\u001b[0m in \u001b[0;36mopen_url\u001b[0;34m(url, application, session, output_grid, timeout, verify, user_charset)\u001b[0m\n\u001b[1;32m     64\u001b[0m     \u001b[0mnever\u001b[0m \u001b[0mretrieve\u001b[0m \u001b[0mcoordinate\u001b[0m \u001b[0maxes\u001b[0m\u001b[0;34m.\u001b[0m\u001b[0;34m\u001b[0m\u001b[0;34m\u001b[0m\u001b[0m\n\u001b[1;32m     65\u001b[0m     \"\"\"\n\u001b[0;32m---> 66\u001b[0;31m     dataset = DAPHandler(url, application, session, output_grid,\n\u001b[0m\u001b[1;32m     67\u001b[0m                          \u001b[0mtimeout\u001b[0m\u001b[0;34m=\u001b[0m\u001b[0mtimeout\u001b[0m\u001b[0;34m,\u001b[0m \u001b[0mverify\u001b[0m\u001b[0;34m=\u001b[0m\u001b[0mverify\u001b[0m\u001b[0;34m,\u001b[0m\u001b[0;34m\u001b[0m\u001b[0;34m\u001b[0m\u001b[0m\n\u001b[1;32m     68\u001b[0m                          user_charset=user_charset).dataset\n",
      "\u001b[0;32m~/miniconda3/envs/searvey/lib/python3.9/site-packages/pydap/handlers/dap.py\u001b[0m in \u001b[0;36m__init__\u001b[0;34m(self, url, application, session, output_grid, timeout, verify, user_charset)\u001b[0m\n\u001b[1;32m     55\u001b[0m                 verify=verify)\n\u001b[1;32m     56\u001b[0m         \u001b[0mraise_for_status\u001b[0m\u001b[0;34m(\u001b[0m\u001b[0mr\u001b[0m\u001b[0;34m)\u001b[0m\u001b[0;34m\u001b[0m\u001b[0;34m\u001b[0m\u001b[0m\n\u001b[0;32m---> 57\u001b[0;31m         \u001b[0mdds\u001b[0m \u001b[0;34m=\u001b[0m \u001b[0msafe_charset_text\u001b[0m\u001b[0;34m(\u001b[0m\u001b[0mr\u001b[0m\u001b[0;34m,\u001b[0m \u001b[0muser_charset\u001b[0m\u001b[0;34m)\u001b[0m\u001b[0;34m\u001b[0m\u001b[0;34m\u001b[0m\u001b[0m\n\u001b[0m\u001b[1;32m     58\u001b[0m \u001b[0;34m\u001b[0m\u001b[0m\n\u001b[1;32m     59\u001b[0m         \u001b[0mdasurl\u001b[0m \u001b[0;34m=\u001b[0m \u001b[0murlunsplit\u001b[0m\u001b[0;34m(\u001b[0m\u001b[0;34m(\u001b[0m\u001b[0mscheme\u001b[0m\u001b[0;34m,\u001b[0m \u001b[0mnetloc\u001b[0m\u001b[0;34m,\u001b[0m \u001b[0mpath\u001b[0m \u001b[0;34m+\u001b[0m \u001b[0;34m'.das'\u001b[0m\u001b[0;34m,\u001b[0m \u001b[0mquery\u001b[0m\u001b[0;34m,\u001b[0m \u001b[0mfragment\u001b[0m\u001b[0;34m)\u001b[0m\u001b[0;34m)\u001b[0m\u001b[0;34m\u001b[0m\u001b[0;34m\u001b[0m\u001b[0m\n",
      "\u001b[0;32m~/miniconda3/envs/searvey/lib/python3.9/site-packages/pydap/handlers/dap.py\u001b[0m in \u001b[0;36msafe_charset_text\u001b[0;34m(r, user_charset)\u001b[0m\n\u001b[1;32m    114\u001b[0m                 .decode(get_charset(r, user_charset)))\n\u001b[1;32m    115\u001b[0m     \u001b[0;32melse\u001b[0m\u001b[0;34m:\u001b[0m\u001b[0;34m\u001b[0m\u001b[0;34m\u001b[0m\u001b[0m\n\u001b[0;32m--> 116\u001b[0;31m         \u001b[0mr\u001b[0m\u001b[0;34m.\u001b[0m\u001b[0mcharset\u001b[0m \u001b[0;34m=\u001b[0m \u001b[0mget_charset\u001b[0m\u001b[0;34m(\u001b[0m\u001b[0mr\u001b[0m\u001b[0;34m,\u001b[0m \u001b[0muser_charset\u001b[0m\u001b[0;34m)\u001b[0m\u001b[0;34m\u001b[0m\u001b[0;34m\u001b[0m\u001b[0m\n\u001b[0m\u001b[1;32m    117\u001b[0m         \u001b[0;32mreturn\u001b[0m \u001b[0mr\u001b[0m\u001b[0;34m.\u001b[0m\u001b[0mtext\u001b[0m\u001b[0;34m\u001b[0m\u001b[0;34m\u001b[0m\u001b[0m\n\u001b[1;32m    118\u001b[0m \u001b[0;34m\u001b[0m\u001b[0m\n",
      "\u001b[0;32m~/miniconda3/envs/searvey/lib/python3.9/site-packages/webob/response.py\u001b[0m in \u001b[0;36m_charset__set\u001b[0;34m(self, charset)\u001b[0m\n\u001b[1;32m    793\u001b[0m         \u001b[0mheader\u001b[0m \u001b[0;34m=\u001b[0m \u001b[0mself\u001b[0m\u001b[0;34m.\u001b[0m\u001b[0mheaders\u001b[0m\u001b[0;34m.\u001b[0m\u001b[0mget\u001b[0m\u001b[0;34m(\u001b[0m\u001b[0;34m'Content-Type'\u001b[0m\u001b[0;34m,\u001b[0m \u001b[0;32mNone\u001b[0m\u001b[0;34m)\u001b[0m\u001b[0;34m\u001b[0m\u001b[0;34m\u001b[0m\u001b[0m\n\u001b[1;32m    794\u001b[0m         \u001b[0;32mif\u001b[0m \u001b[0mheader\u001b[0m \u001b[0;32mis\u001b[0m \u001b[0;32mNone\u001b[0m\u001b[0;34m:\u001b[0m\u001b[0;34m\u001b[0m\u001b[0;34m\u001b[0m\u001b[0m\n\u001b[0;32m--> 795\u001b[0;31m             raise AttributeError(\"You cannot set the charset when no \"\n\u001b[0m\u001b[1;32m    796\u001b[0m                                  \"content-type is defined\")\n\u001b[1;32m    797\u001b[0m         \u001b[0mmatch\u001b[0m \u001b[0;34m=\u001b[0m \u001b[0mCHARSET_RE\u001b[0m\u001b[0;34m.\u001b[0m\u001b[0msearch\u001b[0m\u001b[0;34m(\u001b[0m\u001b[0mheader\u001b[0m\u001b[0;34m)\u001b[0m\u001b[0;34m\u001b[0m\u001b[0;34m\u001b[0m\u001b[0m\n",
      "\u001b[0;31mAttributeError\u001b[0m: You cannot set the charset when no content-type is defined"
     ]
    }
   ],
   "source": [
    "data_store = copernicusmarine_datastore(DATASET_ID, USERNAME, PASSWORD)"
   ]
  },
  {
   "cell_type": "code",
   "execution_count": null,
   "id": "ec5b7fa3",
   "metadata": {},
   "outputs": [],
   "source": [
    "xr.open_dataset(data_store)"
   ]
  }
 ],
 "metadata": {
  "kernelspec": {
   "display_name": "searvey",
   "language": "python",
   "name": "searvey"
  },
  "language_info": {
   "codemirror_mode": {
    "name": "ipython",
    "version": 3
   },
   "file_extension": ".py",
   "mimetype": "text/x-python",
   "name": "python",
   "nbconvert_exporter": "python",
   "pygments_lexer": "ipython3",
   "version": "3.9.7"
  }
 },
 "nbformat": 4,
 "nbformat_minor": 5
}
