{
 "cells": [
  {
   "cell_type": "markdown",
   "metadata": {},
   "source": [
    "# GLOSS"
   ]
  },
  {
   "cell_type": "code",
   "execution_count": null,
   "metadata": {},
   "outputs": [],
   "source": [
    "import pandas as pd\n",
    "import numpy as np\n",
    "import requests"
   ]
  },
  {
   "cell_type": "code",
   "execution_count": null,
   "metadata": {},
   "outputs": [],
   "source": [
    "html = requests.get('https://www.gloss-sealevel.org/gloss-station-handbook').content"
   ]
  },
  {
   "cell_type": "code",
   "execution_count": null,
   "metadata": {},
   "outputs": [],
   "source": [
    "gloss = pd.read_html(html)[0]"
   ]
  },
  {
   "cell_type": "code",
   "execution_count": null,
   "metadata": {},
   "outputs": [],
   "source": [
    "gloss"
   ]
  },
  {
   "cell_type": "code",
   "execution_count": null,
   "metadata": {},
   "outputs": [],
   "source": [
    "gloss[gloss['Station'].str.contains(\"Quarry\")]"
   ]
  },
  {
   "cell_type": "code",
   "execution_count": null,
   "metadata": {},
   "outputs": [],
   "source": [
    "#save DataFrame\n",
    "gloss.to_csv('gloss.csv',encoding='utf-8',index=False)"
   ]
  },
  {
   "cell_type": "markdown",
   "metadata": {},
   "source": [
    "## get data"
   ]
  },
  {
   "cell_type": "code",
   "execution_count": 21,
   "metadata": {},
   "outputs": [],
   "source": [
    "gloss = pd.read_csv('gloss.csv')"
   ]
  },
  {
   "cell_type": "code",
   "execution_count": 22,
   "metadata": {},
   "outputs": [
    {
     "data": {
      "text/html": [
       "<div>\n",
       "<style scoped>\n",
       "    .dataframe tbody tr th:only-of-type {\n",
       "        vertical-align: middle;\n",
       "    }\n",
       "\n",
       "    .dataframe tbody tr th {\n",
       "        vertical-align: top;\n",
       "    }\n",
       "\n",
       "    .dataframe thead th {\n",
       "        text-align: right;\n",
       "    }\n",
       "</style>\n",
       "<table border=\"1\" class=\"dataframe\">\n",
       "  <thead>\n",
       "    <tr style=\"text-align: right;\">\n",
       "      <th></th>\n",
       "      <th>Station</th>\n",
       "      <th>Country</th>\n",
       "      <th>Responsible country</th>\n",
       "      <th>Latitude(+ve N)</th>\n",
       "      <th>Longitude(+ve E)</th>\n",
       "      <th>GLOSSnumber</th>\n",
       "    </tr>\n",
       "  </thead>\n",
       "  <tbody>\n",
       "    <tr>\n",
       "      <th>0</th>\n",
       "      <td>Abashiri</td>\n",
       "      <td>Japan</td>\n",
       "      <td>Japan</td>\n",
       "      <td>44.01666</td>\n",
       "      <td>144.28333</td>\n",
       "      <td>327</td>\n",
       "    </tr>\n",
       "    <tr>\n",
       "      <th>1</th>\n",
       "      <td>Abidjan</td>\n",
       "      <td>Cote d'Ivoire</td>\n",
       "      <td>Cote d'Ivoire</td>\n",
       "      <td>5.25000</td>\n",
       "      <td>-4.00000</td>\n",
       "      <td>257</td>\n",
       "    </tr>\n",
       "    <tr>\n",
       "      <th>2</th>\n",
       "      <td>Aburatsu</td>\n",
       "      <td>Japan</td>\n",
       "      <td>Japan</td>\n",
       "      <td>31.35000</td>\n",
       "      <td>131.25000</td>\n",
       "      <td>82</td>\n",
       "    </tr>\n",
       "    <tr>\n",
       "      <th>3</th>\n",
       "      <td>Acajutla</td>\n",
       "      <td>El Salvador</td>\n",
       "      <td>El Salvador</td>\n",
       "      <td>13.58330</td>\n",
       "      <td>-89.83333</td>\n",
       "      <td>182</td>\n",
       "    </tr>\n",
       "    <tr>\n",
       "      <th>4</th>\n",
       "      <td>Acapulco, Gro.</td>\n",
       "      <td>Mexico</td>\n",
       "      <td>Mexico</td>\n",
       "      <td>16.83333</td>\n",
       "      <td>-99.91666</td>\n",
       "      <td>267</td>\n",
       "    </tr>\n",
       "  </tbody>\n",
       "</table>\n",
       "</div>"
      ],
      "text/plain": [
       "          Station        Country Responsible country  Latitude(+ve N)  \\\n",
       "0        Abashiri          Japan               Japan         44.01666   \n",
       "1         Abidjan  Cote d'Ivoire       Cote d'Ivoire          5.25000   \n",
       "2        Aburatsu          Japan               Japan         31.35000   \n",
       "3        Acajutla    El Salvador         El Salvador         13.58330   \n",
       "4  Acapulco, Gro.         Mexico              Mexico         16.83333   \n",
       "\n",
       "   Longitude(+ve E)  GLOSSnumber  \n",
       "0         144.28333          327  \n",
       "1          -4.00000          257  \n",
       "2         131.25000           82  \n",
       "3         -89.83333          182  \n",
       "4         -99.91666          267  "
      ]
     },
     "execution_count": 22,
     "metadata": {},
     "output_type": "execute_result"
    }
   ],
   "source": [
    "gloss.head()"
   ]
  },
  {
   "cell_type": "code",
   "execution_count": 19,
   "metadata": {},
   "outputs": [
    {
     "data": {
      "text/html": [
       "<div>\n",
       "<style>\n",
       "    .dataframe thead tr:only-child th {\n",
       "        text-align: right;\n",
       "    }\n",
       "\n",
       "    .dataframe thead th {\n",
       "        text-align: left;\n",
       "    }\n",
       "\n",
       "    .dataframe tbody tr th {\n",
       "        vertical-align: top;\n",
       "    }\n",
       "</style>\n",
       "<table border=\"1\" class=\"dataframe\">\n",
       "  <thead>\n",
       "    <tr style=\"text-align: right;\">\n",
       "      <th></th>\n",
       "      <th>Unnamed: 0</th>\n",
       "      <th>Station</th>\n",
       "      <th>Country</th>\n",
       "      <th>Responsible country</th>\n",
       "      <th>Latitude(+ve N)</th>\n",
       "      <th>Longitude(+ve E)</th>\n",
       "      <th>GLOSSnumber</th>\n",
       "    </tr>\n",
       "  </thead>\n",
       "  <tbody>\n",
       "    <tr>\n",
       "      <th>212</th>\n",
       "      <td>213</td>\n",
       "      <td>Quarry Bay</td>\n",
       "      <td>Hong Kong</td>\n",
       "      <td>Hong Kong, China</td>\n",
       "      <td>22.28333</td>\n",
       "      <td>114.21666</td>\n",
       "      <td>77</td>\n",
       "    </tr>\n",
       "  </tbody>\n",
       "</table>\n",
       "</div>"
      ],
      "text/plain": [
       "     Unnamed: 0     Station    Country Responsible country  Latitude(+ve N)  \\\n",
       "212         213  Quarry Bay  Hong Kong    Hong Kong, China         22.28333   \n",
       "\n",
       "     Longitude(+ve E)  GLOSSnumber  \n",
       "212         114.21666           77  "
      ]
     },
     "execution_count": 19,
     "metadata": {},
     "output_type": "execute_result"
    }
   ],
   "source": [
    "gloss[gloss['Station'].str.contains(\"Quarry\")]"
   ]
  }
 ],
 "metadata": {
  "kernelspec": {
   "display_name": "searvey",
   "language": "python",
   "name": "searvey"
  },
  "language_info": {
   "codemirror_mode": {
    "name": "ipython",
    "version": 3
   },
   "file_extension": ".py",
   "mimetype": "text/x-python",
   "name": "python",
   "nbconvert_exporter": "python",
   "pygments_lexer": "ipython3",
   "version": "3.9.7"
  },
  "toc": {
   "nav_menu": {},
   "number_sections": true,
   "sideBar": true,
   "skip_h1_title": false,
   "title_cell": "Table of Contents",
   "title_sidebar": "Contents",
   "toc_cell": false,
   "toc_position": {},
   "toc_section_display": true,
   "toc_window_display": false
  }
 },
 "nbformat": 4,
 "nbformat_minor": 4
}
