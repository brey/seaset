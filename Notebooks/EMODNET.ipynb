{
 "cells": [
  {
   "cell_type": "markdown",
   "id": "dfef85e5",
   "metadata": {},
   "source": [
    "## EMODNET"
   ]
  },
  {
   "cell_type": "code",
   "execution_count": null,
   "id": "1bd40ebd",
   "metadata": {},
   "outputs": [],
   "source": [
    "from erddapy import ERDDAP\n",
    "\n",
    "\n",
    "e = ERDDAP(\n",
    "  server=\"https://erddap.emodnet-physics.eu/erddap\",\n",
    "  protocol=\"tabledap\",\n",
    ")\n",
    "\n",
    "\n"
   ]
  },
  {
   "cell_type": "code",
   "execution_count": null,
   "id": "92af600c",
   "metadata": {},
   "outputs": [],
   "source": [
    "e.response = \"csv\""
   ]
  },
  {
   "cell_type": "code",
   "execution_count": null,
   "id": "971c9d9b",
   "metadata": {},
   "outputs": [],
   "source": [
    "e.dataset_id = 'EP_ERD_INT_SLEV_AL_TS_NRT_01m'"
   ]
  },
  {
   "cell_type": "code",
   "execution_count": null,
   "id": "cdc0ba22",
   "metadata": {},
   "outputs": [],
   "source": [
    "e.constraints = {\n",
    "#    \"time>=\": \"2022-04-27T00:00:00Z\",\n",
    "#    \"time<=\": \"2022-04-27T01:00:00Z\",\n",
    "#    \"latitude>=\": 38.0,\n",
    "#    \"latitude<=\": 41.0,\n",
    "#    \"longitude>=\": -2.0,\n",
    "#    \"longitude<=\": 45.0,\n",
    "}\n"
   ]
  },
  {
   "cell_type": "code",
   "execution_count": null,
   "id": "0720cbf5",
   "metadata": {},
   "outputs": [],
   "source": [
    "e.variables = [\n",
    "    \"EP_PLATFORM_ID\",\n",
    "    \"EP_PLATFORM_TYPE\",\n",
    "    \"EP_PLATFORM_CODE\",\n",
    "    \"EP_PLATFORM_LINK\",\n",
    "#    \"TIME_QC\",\n",
    "    \"latitude\",\n",
    "    \"longitude\",\n",
    "#    \"SLEV_QC\",\n",
    "#    \"SLEV_DM\",\n",
    "#    \"site_code\",\n",
    "#    \"platform_code\",\n",
    "#    \"platform_name\",\n",
    "#    \"pi_name\",\n",
    "#    \"area\",\n",
    "#    \"author\",\n",
    "#    \"source\",\n",
    "#    \"contributor_name\",\n",
    "#    \"contributor_url\",\n",
    "#    \"data_assembly_center\",\n",
    "#    \"institution_edmo_code\",\n",
    "#    \"institution_references\",\n",
    "#    \"institution\",\n",
    "#    \"wmo_platform_code\",\n",
    "]\n"
   ]
  },
  {
   "cell_type": "code",
   "execution_count": null,
   "id": "2e6c97f9",
   "metadata": {},
   "outputs": [],
   "source": [
    "import pandas as pd\n",
    "info_url = e.get_info_url(response='csv')\n",
    "info = pd.read_csv(info_url)\n",
    "info"
   ]
  },
  {
   "cell_type": "code",
   "execution_count": null,
   "id": "df43e9e0",
   "metadata": {},
   "outputs": [],
   "source": [
    "d = e.to_pandas()"
   ]
  },
  {
   "cell_type": "markdown",
   "id": "318fef24",
   "metadata": {},
   "source": [
    "### Get data"
   ]
  },
  {
   "cell_type": "code",
   "execution_count": null,
   "id": "7e1326c6",
   "metadata": {},
   "outputs": [],
   "source": [
    "from erddapy import ERDDAP\n",
    "\n",
    "\n",
    "e = ERDDAP(\n",
    "  server=\"https://erddap.emodnet-physics.eu/erddap\",\n",
    "  protocol=\"tabledap\",\n",
    ")\n"
   ]
  },
  {
   "cell_type": "code",
   "execution_count": null,
   "id": "37378cea",
   "metadata": {},
   "outputs": [],
   "source": [
    "e.dataset_id = 'EP_ERD_INT_SLEV_AL_TS_NRT_01m'"
   ]
  },
  {
   "cell_type": "code",
   "execution_count": null,
   "id": "070fce3c",
   "metadata": {},
   "outputs": [],
   "source": [
    "e.constraints = {\n",
    "    \"time>=\": \"2018-01-01T00:00:00Z\",\n",
    "    \"time<=\": \"2022-03-10T00:00:00Z\",\n",
    "    \"PLATFORM_CODE=\": \"Aarhus\",\n",
    "#    \"latitude>=\": 38.0,\n",
    "#    \"latitude<=\": 41.0,\n",
    "#    \"longitude>=\": -2.0,\n",
    "#    \"longitude<=\": 45.0,\n",
    "}\n"
   ]
  },
  {
   "cell_type": "code",
   "execution_count": null,
   "id": "012abe74",
   "metadata": {},
   "outputs": [],
   "source": [
    "e.variables = [\n",
    "    \"time\",\n",
    "    \"SLEV\"\n",
    "]\n"
   ]
  },
  {
   "cell_type": "code",
   "execution_count": null,
   "id": "0559c924",
   "metadata": {},
   "outputs": [],
   "source": [
    "df = e.to_pandas()#low_memory=False)"
   ]
  },
  {
   "cell_type": "code",
   "execution_count": null,
   "id": "123ce861",
   "metadata": {},
   "outputs": [],
   "source": [
    "df"
   ]
  },
  {
   "cell_type": "code",
   "execution_count": null,
   "id": "6eb6a0c7",
   "metadata": {},
   "outputs": [],
   "source": [
    "df.plot(x='time (UTC)',y='SLEV (m)')"
   ]
  }
 ],
 "metadata": {
  "kernelspec": {
   "display_name": "searvey",
   "language": "python",
   "name": "searvey"
  },
  "language_info": {
   "codemirror_mode": {
    "name": "ipython",
    "version": 3
   },
   "file_extension": ".py",
   "mimetype": "text/x-python",
   "name": "python",
   "nbconvert_exporter": "python",
   "pygments_lexer": "ipython3",
   "version": "3.9.7"
  }
 },
 "nbformat": 4,
 "nbformat_minor": 5
}
